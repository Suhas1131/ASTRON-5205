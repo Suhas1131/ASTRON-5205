{
  "nbformat": 4,
  "nbformat_minor": 0,
  "metadata": {
    "colab": {
      "provenance": []
    },
    "kernelspec": {
      "name": "python3",
      "display_name": "Python 3"
    },
    "language_info": {
      "name": "python"
    }
  },
  "cells": [
    {
      "cell_type": "markdown",
      "source": [
        "**Scale Height**"
      ],
      "metadata": {
        "id": "oXGMWNms4era"
      }
    },
    {
      "cell_type": "code",
      "source": [
        "# Import necessary modules\n",
        "import numpy as np\n",
        "import astropy.constants as ac\n",
        "import astropy.units as u\n",
        "\n",
        "# Storing values used to calculate the scale height\n",
        "# of Earth's atmosphere\n",
        "mu = 29.0 * ac.m_p\n",
        "g = 9.8 * u.m / u.s**2\n",
        "T = 300 * u.K\n",
        "\n",
        "H = ac.k_B * T / (mu * g)    # Calculating the scale height\n",
        "print(\"Scale height of Earth atmospehre is \", H.to(u.km))"
      ],
      "metadata": {
        "colab": {
          "base_uri": "https://localhost:8080/"
        },
        "id": "-fWqE3cA4dEU",
        "outputId": "18455d53-973c-4c02-82af-6cda93597b05"
      },
      "execution_count": 3,
      "outputs": [
        {
          "output_type": "stream",
          "name": "stdout",
          "text": [
            "Scale height of Earth atmospehre is  8.713300235811277 km\n"
          ]
        }
      ]
    },
    {
      "cell_type": "markdown",
      "source": [
        "**Lapse Rate - Order of Magnitude**"
      ],
      "metadata": {
        "id": "lRHS9vW95jHT"
      }
    },
    {
      "cell_type": "code",
      "source": [
        "# Calculating a rough estimate for the lapse rate of Earth's atmosphere\n",
        "lapse_rate = mu * g / ac.k_B\n",
        "print(\"Temperature change in the atmosphere is \", lapse_rate.to(u.K/u.km))"
      ],
      "metadata": {
        "colab": {
          "base_uri": "https://localhost:8080/"
        },
        "id": "K1eODXIg5inQ",
        "outputId": "7a60a05a-7bce-4ef5-9f82-80d78f2b22ec"
      },
      "execution_count": 2,
      "outputs": [
        {
          "output_type": "stream",
          "name": "stdout",
          "text": [
            "Temperature change in the atmosphere is  34.43012313141849 K / km\n"
          ]
        }
      ]
    },
    {
      "cell_type": "markdown",
      "source": [
        "**Lapse Rate - more precise**"
      ],
      "metadata": {
        "id": "lX3oITZr6KiF"
      }
    },
    {
      "cell_type": "code",
      "source": [
        "# Storing values used to calculate the precise value of the lapse rate\n",
        "# of Earth's atmosphere\n",
        "rho = 1.2 * u.kg / u.m**3\n",
        "gamma = 7. / 5.\n",
        "T = 300 * u.K\n",
        "T0 = 300 * u.K\n",
        "P0 = 1 * u.bar\n",
        "\n",
        "# Calculating the precise value of the lapse rate\n",
        "lapse_rate = rho * g / P0 * T0 * (gamma - 1.) / gamma * (T/T0)**(-1. / (gamma - 1))\n",
        "print(\"Temperature change in the atmosphere is \", lapse_rate.to(u.K/u.km))"
      ],
      "metadata": {
        "colab": {
          "base_uri": "https://localhost:8080/"
        },
        "id": "F-q2sLRa4x-h",
        "outputId": "2823d7dc-cbc5-47fc-bc6d-f0783da03731"
      },
      "execution_count": 4,
      "outputs": [
        {
          "output_type": "stream",
          "name": "stdout",
          "text": [
            "Temperature change in the atmosphere is  10.079999999999998 K / km\n"
          ]
        }
      ]
    },
    {
      "cell_type": "code",
      "source": [
        "print(1 / np.e)"
      ],
      "metadata": {
        "colab": {
          "base_uri": "https://localhost:8080/"
        },
        "id": "xYo5G4lo5VIB",
        "outputId": "d7eeb059-2d84-4f83-abed-dcf117009a88"
      },
      "execution_count": 5,
      "outputs": [
        {
          "output_type": "stream",
          "name": "stdout",
          "text": [
            "0.36787944117144233\n"
          ]
        }
      ]
    },
    {
      "cell_type": "markdown",
      "source": [
        "**Atmosphere escape** $\\dot{M} = \\frac{L_\\odot R_\\oplus^3}{4G (0.1 AU)^2M_\\oplus}$"
      ],
      "metadata": {
        "id": "-oNl_ogtio_6"
      }
    },
    {
      "cell_type": "code",
      "source": [
        "# Caculating the rate of Earth's atmosphere escape\n",
        "m_dot = u.solLum * u.earthRad**3 / (4 * ac.G * (0.1 * u.AU)**2 * u.earthMass)\n",
        "print(\"Atmosphere escape is \", m_dot.to(u.earthMass/u.year))"
      ],
      "metadata": {
        "id": "DWMvVqfMSoL8",
        "colab": {
          "base_uri": "https://localhost:8080/"
        },
        "outputId": "c524cf23-65fc-43be-e94d-5c419774d760"
      },
      "execution_count": 6,
      "outputs": [
        {
          "output_type": "stream",
          "name": "stdout",
          "text": [
            "Atmosphere escape is  1.4708531549811543e-06 earthMass / yr\n"
          ]
        }
      ]
    },
    {
      "cell_type": "markdown",
      "source": [
        "This is quick because Earth atmospheric mass is about 1e-6 earth total mass, why?"
      ],
      "metadata": {
        "id": "WcHVffaqk0LA"
      }
    },
    {
      "cell_type": "code",
      "source": [
        "# Calculating the mass of Earth's atmosphere\n",
        "rho_atm = 1 * u.kg / u.m**3    # Density\n",
        "atm_mass = 4 * np.pi * u.earthRad**2 * H * 1 * rho_atm\n",
        "print(\"Atmosphere mass is \", atm_mass.to(u.earthMass))"
      ],
      "metadata": {
        "colab": {
          "base_uri": "https://localhost:8080/"
        },
        "id": "8hlmJ5Qqj1JR",
        "outputId": "e43009d6-7ce5-4663-e10d-e2f87ce1730b"
      },
      "execution_count": 7,
      "outputs": [
        {
          "output_type": "stream",
          "name": "stdout",
          "text": [
            "Atmosphere mass is  7.458357295631288e-07 earthMass\n"
          ]
        }
      ]
    },
    {
      "cell_type": "markdown",
      "source": [
        "Another issue is that not all photons from the host star can drive particle to escape from the atmosphere, what is the corresponding wavelength that is capable of driving atmospheric escape? $h\\frac{c}{\\lambda} = \\frac{G M_p \\mu}{R_p}$"
      ],
      "metadata": {
        "id": "gdi2VrQKlu6D"
      }
    },
    {
      "cell_type": "code",
      "source": [
        "# Caculating the maximum wavelength a photon needs to fuel atmosphere escape\n",
        "mu = 2.3 * ac.m_p\n",
        "E_esc = ac.G * u.earthMass * mu / u.earthRad\n",
        "wav = ac.h * ac.c / E_esc\n",
        "print(\"Wavelength of escape is \", wav.to(u.um))"
      ],
      "metadata": {
        "colab": {
          "base_uri": "https://localhost:8080/"
        },
        "id": "jwvrdZvFmNpj",
        "outputId": "890b9142-5653-44ba-e184-189a9f90eacf"
      },
      "execution_count": 8,
      "outputs": [
        {
          "output_type": "stream",
          "name": "stdout",
          "text": [
            "Wavelength of escape is  0.826237125481894 um\n"
          ]
        }
      ]
    },
    {
      "cell_type": "markdown",
      "source": [
        "The above value is the bare mininum, but in reality, it is the UV and X-ray that drives the atmospheric escape. The UV and X-ray photons only account for 1e-5 of the total solar luminosity when the sun is young, so $\\dot{M} \\sim 10^{-5} M_\\oplus/Myr \\left(\\frac{\\eta}{10^{-5}}\\right)\\left(\\frac{L}{L_\\odot}\\right)\\left(\\frac{a}{0.1\\ AU}\\right)^{-2}\\left(\\frac{M_p}{M_\\oplus}\\right)^{3\\alpha-1}$, where $\\alpha$ is the power of mass-radius relationship."
      ],
      "metadata": {
        "id": "9XzmGxMlnMvA"
      }
    },
    {
      "cell_type": "code",
      "source": [
        "# For an Earth-sized planet with 1e-3 Earth mass atmosphere\n",
        "\n",
        "atm_frac = 1e-3\n",
        "Mp = 1 * u.earthMass\n",
        "m_dot = 1e-5 * u.earthMass / u.Myr\n",
        "\n",
        "# Calculating the time it takes for the planet to lose its atmosphere\n",
        "t_loss = atm_frac * Mp / m_dot   # In yr\n",
        "print(\"Time to loss is \", t_loss.to(u.Myr))"
      ],
      "metadata": {
        "colab": {
          "base_uri": "https://localhost:8080/"
        },
        "id": "nPMuplcqoJP4",
        "outputId": "61c0b903-c803-4141-f8cc-9f634a5ab7c3"
      },
      "execution_count": null,
      "outputs": [
        {
          "output_type": "stream",
          "name": "stdout",
          "text": [
            "Time to loss is  100.0 Myr\n"
          ]
        }
      ]
    },
    {
      "cell_type": "code",
      "source": [
        "# For an Mp = 8 * M_earth planet with 1e-2 Earth mass atmosphere\n",
        "atm_frac = 1e-2\n",
        "Mp = 8 * u.earthMass\n",
        "alpha = 0.3\n",
        "m_dot = 1e-5 * u.earthMass / u.Myr * (Mp / u.earthMass)**(3.0 * alpha - 1.0)\n",
        "\n",
        "# Calculating the time it takes for the planet to lose its atmosphere\n",
        "t_loss = atm_frac * Mp / m_dot\n",
        "print(\"Time to loss is \", t_loss.to(u.Myr))"
      ],
      "metadata": {
        "colab": {
          "base_uri": "https://localhost:8080/"
        },
        "id": "Dtvcm6K403nl",
        "outputId": "b30d6e5a-c9e5-4abc-f10d-4bc0b1a88865"
      },
      "execution_count": null,
      "outputs": [
        {
          "output_type": "stream",
          "name": "stdout",
          "text": [
            "Time to loss is  9849.15530675933 Myr\n"
          ]
        }
      ]
    },
    {
      "cell_type": "code",
      "source": [
        "# For an Mp = 18 * M_earth planet with 1e-2 Earth mass atmosphere\n",
        "atm_frac = 1e-1\n",
        "Mp = 18 * u.earthMass\n",
        "alpha = 0.6\n",
        "m_dot = 1e-5 * u.earthMass / u.Myr * (Mp / u.earthMass)**(3.0 * alpha - 1.0)\n",
        "\n",
        "# Calculating the time it takes for the planet to lose its atmosphere\n",
        "t_loss = atm_frac * Mp / m_dot\n",
        "print(\"Time to loss is \", t_loss.to(u.Myr))"
      ],
      "metadata": {
        "colab": {
          "base_uri": "https://localhost:8080/"
        },
        "id": "eGievzDQ19DE",
        "outputId": "7a48b205-c520-4db9-a44f-1d50c8f2e236"
      },
      "execution_count": null,
      "outputs": [
        {
          "output_type": "stream",
          "name": "stdout",
          "text": [
            "Time to loss is  17826.024579660043 Myr\n"
          ]
        }
      ]
    },
    {
      "cell_type": "markdown",
      "source": [
        "This time scale is long, the the alpha that we are using is for mature planets, changing it to a higher alpha, which is more appropriate for young planets."
      ],
      "metadata": {
        "id": "3nb_btQs3v1U"
      }
    },
    {
      "cell_type": "code",
      "source": [
        "# For an Mp = 18 * M_earth planet with 1e-2 Earth mass atmosphere\n",
        "atm_frac = 1e-1\n",
        "Mp = 18 * u.earthMass\n",
        "alpha = 1.0\n",
        "m_dot = 1e-5 * u.earthMass / u.Myr * (Mp / u.earthMass)**(3.0 * alpha - 1.0)\n",
        "\n",
        "# Calculating the time it takes for the planet to lose its atmosphere\n",
        "t_loss = atm_frac * Mp / m_dot\n",
        "print(\"Time to loss is \", t_loss.to(u.Myr))"
      ],
      "metadata": {
        "colab": {
          "base_uri": "https://localhost:8080/"
        },
        "id": "tJ4Tt9SI3ct6",
        "outputId": "bb758516-a901-4ad0-ac49-ea0a4e6e6231"
      },
      "execution_count": null,
      "outputs": [
        {
          "output_type": "stream",
          "name": "stdout",
          "text": [
            "Time to loss is  555.5555555555555 Myr\n"
          ]
        }
      ]
    },
    {
      "cell_type": "markdown",
      "source": [
        "For a more massive planet:"
      ],
      "metadata": {
        "id": "OUlcC8pg4liF"
      }
    },
    {
      "cell_type": "code",
      "source": [
        "# For an Mp = 40 * M_earth planet with 1e-2 Earth mass atmosphere\n",
        "atm_frac = 1e-1\n",
        "Mp = 40 * u.earthMass\n",
        "alpha = 1.0\n",
        "m_dot = 1e-5 * u.earthMass / u.Myr * (Mp / u.earthMass)**(3.0 * alpha - 1.0)\n",
        "\n",
        "# Calculating the time it takes for the planet to lose its atmosphere\n",
        "t_loss = atm_frac * Mp / m_dot\n",
        "print(\"Time to loss is \", t_loss.to(u.Myr))"
      ],
      "metadata": {
        "colab": {
          "base_uri": "https://localhost:8080/"
        },
        "id": "n2mNZNuE4cJP",
        "outputId": "b939455d-22b1-47a7-9fd0-15970582461c"
      },
      "execution_count": null,
      "outputs": [
        {
          "output_type": "stream",
          "name": "stdout",
          "text": [
            "Time to loss is  250.0 Myr\n"
          ]
        }
      ]
    },
    {
      "cell_type": "markdown",
      "source": [],
      "metadata": {
        "id": "vhP7Xu5pkzXM"
      }
    }
  ]
}